{
 "cells": [
  {
   "cell_type": "markdown",
   "id": "510fe100",
   "metadata": {},
   "source": [
    "## SNScrape Tutorials"
   ]
  },
  {
   "cell_type": "code",
   "execution_count": 1,
   "id": "7118e68c",
   "metadata": {},
   "outputs": [
    {
     "name": "stdout",
     "output_type": "stream",
     "text": [
      "Requirement already satisfied: snscrape in c:\\users\\karan\\.conda\\envs\\datascience\\lib\\site-packages (0.5.0.20230113)\n",
      "Requirement already satisfied: requests[socks] in c:\\users\\karan\\.conda\\envs\\datascience\\lib\\site-packages (from snscrape) (2.28.1)\n",
      "Requirement already satisfied: filelock in c:\\users\\karan\\.conda\\envs\\datascience\\lib\\site-packages (from snscrape) (3.9.0)\n",
      "Requirement already satisfied: lxml in c:\\users\\karan\\appdata\\roaming\\python\\python39\\site-packages (from snscrape) (4.9.2)\n",
      "Requirement already satisfied: beautifulsoup4 in c:\\users\\karan\\.conda\\envs\\datascience\\lib\\site-packages (from snscrape) (4.11.1)\n",
      "Requirement already satisfied: soupsieve>1.2 in c:\\users\\karan\\.conda\\envs\\datascience\\lib\\site-packages (from beautifulsoup4->snscrape) (2.3.1)\n",
      "Requirement already satisfied: idna<4,>=2.5 in c:\\users\\karan\\.conda\\envs\\datascience\\lib\\site-packages (from requests[socks]->snscrape) (3.3)\n",
      "Requirement already satisfied: charset-normalizer<3,>=2 in c:\\users\\karan\\.conda\\envs\\datascience\\lib\\site-packages (from requests[socks]->snscrape) (2.1.0)\n",
      "Requirement already satisfied: urllib3<1.27,>=1.21.1 in c:\\users\\karan\\.conda\\envs\\datascience\\lib\\site-packages (from requests[socks]->snscrape) (1.26.10)\n",
      "Requirement already satisfied: certifi>=2017.4.17 in c:\\users\\karan\\.conda\\envs\\datascience\\lib\\site-packages (from requests[socks]->snscrape) (2022.6.15)\n",
      "Requirement already satisfied: PySocks!=1.5.7,>=1.5.6 in c:\\users\\karan\\.conda\\envs\\datascience\\lib\\site-packages (from requests[socks]->snscrape) (1.7.1)\n"
     ]
    }
   ],
   "source": [
    "!pip install snscrape"
   ]
  },
  {
   "cell_type": "markdown",
   "id": "8cf90fe5",
   "metadata": {},
   "source": [
    "### Importing Libraries"
   ]
  },
  {
   "cell_type": "code",
   "execution_count": 1,
   "id": "fc883d75",
   "metadata": {},
   "outputs": [],
   "source": [
    "import pandas as pd\n",
    "from tqdm.notebook import tqdm # Progress bar\n",
    "import snscrape.modules.twitter as sntweet #to scrape data from twitter we gonna use the twitter module"
   ]
  },
  {
   "cell_type": "markdown",
   "id": "e24d8a43",
   "metadata": {},
   "source": [
    "### Pulling Tweets"
   ]
  },
  {
   "cell_type": "code",
   "execution_count": 2,
   "id": "8fa2a0f9",
   "metadata": {},
   "outputs": [],
   "source": [
    "hashpythonscrape = sntweet.TwitterHashtagScraper(\"#python\")"
   ]
  },
  {
   "cell_type": "code",
   "execution_count": 3,
   "id": "2cf9a446",
   "metadata": {},
   "outputs": [
    {
     "data": {
      "text/plain": [
       "snscrape.modules.twitter.TwitterHashtagScraper"
      ]
     },
     "execution_count": 3,
     "metadata": {},
     "output_type": "execute_result"
    }
   ],
   "source": [
    "type(hashpythonscrape)"
   ]
  },
  {
   "cell_type": "code",
   "execution_count": 4,
   "id": "dc362938",
   "metadata": {},
   "outputs": [],
   "source": [
    "for tweet in hashpythonscrape.get_items():\n",
    "    break"
   ]
  },
  {
   "cell_type": "markdown",
   "id": "e98b2199",
   "metadata": {},
   "source": [
    "###### Content inside reference variable tweet\n",
    "    - It consists of various attributes if a twee such as url, date, likeCount, username etc."
   ]
  },
  {
   "cell_type": "code",
   "execution_count": 5,
   "id": "4ebb946d",
   "metadata": {},
   "outputs": [
    {
     "data": {
      "text/plain": [
       "Tweet(url='https://twitter.com/sochablo/status/1623375147045617664', date=datetime.datetime(2023, 2, 8, 17, 36, 10, tzinfo=datetime.timezone.utc), rawContent='習慣は一度途切れるとずるずるとやらない日が続くのが怖い。だがしかし何度でもトライ！\\n\\n連続１日目！\\n\\npaizaのスキルチェック『C068:秘密の手紙』を受験しました！ https://t.co/Y8JXv3cdMM #paiza #python https://t.co/S5t5K26QOg', renderedContent='習慣は一度途切れるとずるずるとやらない日が続くのが怖い。だがしかし何度でもトライ！\\n\\n連続１日目！\\n\\npaizaのスキルチェック『C068:秘密の手紙』を受験しました！ paiza.jp/challenges/sha… #paiza #python https://t.co/S5t5K26QOg', id=1623375147045617664, user=User(username='sochablo', id=1256098068748857344, displayname='sochablo', rawDescription='完璧でなくてもいい、毎日少しでも努力することをもっとーにがんばっています。\\nデスク周りをおしゃれにしていく動画もアップしていますのでぜひ！\\n\\n◆ブログ\\u3000：https://t.co/gKUWg0fmXy\\n◆YouTube：https://t.co/GwY2g3lCgR', renderedDescription='完璧でなくてもいい、毎日少しでも努力することをもっとーにがんばっています。\\nデスク周りをおしゃれにしていく動画もアップしていますのでぜひ！\\n\\n◆ブログ\\u3000：sochablo.com\\n◆YouTube：youtube.com/@sochablo', descriptionLinks=[TextLink(text='sochablo.com', url='http://sochablo.com', tcourl='https://t.co/gKUWg0fmXy', indices=(77, 100)), TextLink(text='youtube.com/@sochablo', url='http://youtube.com/@sochablo', tcourl='https://t.co/GwY2g3lCgR', indices=(110, 133))], verified=False, created=datetime.datetime(2020, 5, 1, 5, 48, 24, tzinfo=datetime.timezone.utc), followersCount=11, friendsCount=20, statusesCount=164, favouritesCount=74, listedCount=0, mediaCount=117, location='', protected=False, link=TextLink(text='sochablo.com', url='https://sochablo.com/', tcourl='https://t.co/CTgwDjgb2P', indices=(0, 23)), profileImageUrl='https://pbs.twimg.com/profile_images/1530885708319035393/KT8dnoO7_normal.jpg', profileBannerUrl='https://pbs.twimg.com/profile_banners/1256098068748857344/1588312453', label=None), replyCount=0, retweetCount=0, likeCount=0, quoteCount=0, conversationId=1623375147045617664, lang='ja', source='<a href=\"https://mobile.twitter.com\" rel=\"nofollow\">Twitter Web App</a>', sourceUrl='https://mobile.twitter.com', sourceLabel='Twitter Web App', links=[TextLink(text='paiza.jp/challenges/sha…', url='https://paiza.jp/challenges/share/_64aWKhpH1JfC8bSYpooadqH1UabE8skkhKJyGxSTEM?source=social', tcourl='https://t.co/Y8JXv3cdMM', indices=(85, 108))], media=[Photo(previewUrl='https://pbs.twimg.com/media/FodiSe-aUAIydrJ?format=jpg&name=small', fullUrl='https://pbs.twimg.com/media/FodiSe-aUAIydrJ?format=jpg&name=large', altText=None)], retweetedTweet=None, quotedTweet=None, inReplyToTweetId=None, inReplyToUser=None, mentionedUsers=None, coordinates=None, place=None, hashtags=['paiza', 'python'], cashtags=None, card=None, viewCount=None, vibe=None)"
      ]
     },
     "execution_count": 5,
     "metadata": {},
     "output_type": "execute_result"
    }
   ],
   "source": [
    "tweet"
   ]
  },
  {
   "cell_type": "markdown",
   "id": "31805b2c",
   "metadata": {},
   "source": [
    "### Extract Tweet Data"
   ]
  },
  {
   "cell_type": "code",
   "execution_count": 6,
   "id": "d112a2b1",
   "metadata": {},
   "outputs": [],
   "source": [
    "scrapehashpython = sntweet.TwitterHashtagScraper(\"#python\")\n",
    "\n",
    "tweet_data = [] # will consist of the tweet data that we need.\n",
    "\n",
    "for count, tweet in enumerate(scrapehashpython.get_items()):\n",
    "    data = {\n",
    "        \"date\": tweet.date,\n",
    "        \"id\": tweet.id,\n",
    "        \"content\": tweet.rawContent,\n",
    "        \"username\": tweet.user.username,\n",
    "        \"like_count\": tweet.likeCount,\n",
    "        \"retweet_count\": tweet.retweetCount\n",
    "    }\n",
    "    \n",
    "    tweet_data.append(data)\n",
    "    \n",
    "    if count > 100:\n",
    "        break"
   ]
  },
  {
   "cell_type": "markdown",
   "id": "c172cfa3",
   "metadata": {},
   "source": [
    "##### Converting the data into dataframe"
   ]
  },
  {
   "cell_type": "code",
   "execution_count": 33,
   "id": "d158ce7e",
   "metadata": {},
   "outputs": [],
   "source": [
    "tweet_df = pd.DataFrame(tweet_data, columns=tweet_data[0].keys())"
   ]
  },
  {
   "cell_type": "code",
   "execution_count": 34,
   "id": "8b634d6d",
   "metadata": {},
   "outputs": [
    {
     "data": {
      "text/html": [
       "<div>\n",
       "<style scoped>\n",
       "    .dataframe tbody tr th:only-of-type {\n",
       "        vertical-align: middle;\n",
       "    }\n",
       "\n",
       "    .dataframe tbody tr th {\n",
       "        vertical-align: top;\n",
       "    }\n",
       "\n",
       "    .dataframe thead th {\n",
       "        text-align: right;\n",
       "    }\n",
       "</style>\n",
       "<table border=\"1\" class=\"dataframe\">\n",
       "  <thead>\n",
       "    <tr style=\"text-align: right;\">\n",
       "      <th></th>\n",
       "      <th>date</th>\n",
       "      <th>id</th>\n",
       "      <th>content</th>\n",
       "      <th>username</th>\n",
       "      <th>like_count</th>\n",
       "      <th>retweet_count</th>\n",
       "    </tr>\n",
       "  </thead>\n",
       "  <tbody>\n",
       "    <tr>\n",
       "      <th>0</th>\n",
       "      <td>2023-02-08 17:20:15+00:00</td>\n",
       "      <td>1623371140956622848</td>\n",
       "      <td>Weather at Fort Meade / Tipton, MD - via NOAA'...</td>\n",
       "      <td>gpibot_g</td>\n",
       "      <td>0</td>\n",
       "      <td>0</td>\n",
       "    </tr>\n",
       "    <tr>\n",
       "      <th>1</th>\n",
       "      <td>2023-02-08 17:18:32+00:00</td>\n",
       "      <td>1623370708918358017</td>\n",
       "      <td>Blacbox extension vscode\\nhttps://t.co/wnMBQno...</td>\n",
       "      <td>NcPedia</td>\n",
       "      <td>0</td>\n",
       "      <td>0</td>\n",
       "    </tr>\n",
       "    <tr>\n",
       "      <th>2</th>\n",
       "      <td>2023-02-08 17:18:07+00:00</td>\n",
       "      <td>1623370606229000214</td>\n",
       "      <td>Learning everything at once is like trying to ...</td>\n",
       "      <td>metaphorMind_</td>\n",
       "      <td>0</td>\n",
       "      <td>1</td>\n",
       "    </tr>\n",
       "    <tr>\n",
       "      <th>3</th>\n",
       "      <td>2023-02-08 17:17:47+00:00</td>\n",
       "      <td>1623370519171981312</td>\n",
       "      <td>📱Facebook draine-t-il la pile de votre télépho...</td>\n",
       "      <td>VeilleCyber3</td>\n",
       "      <td>1</td>\n",
       "      <td>1</td>\n",
       "    </tr>\n",
       "    <tr>\n",
       "      <th>4</th>\n",
       "      <td>2023-02-08 17:17:33+00:00</td>\n",
       "      <td>1623370462800580612</td>\n",
       "      <td>LamdenLink is now on Arko! Swap from Lamden to...</td>\n",
       "      <td>LamdenTau</td>\n",
       "      <td>2</td>\n",
       "      <td>0</td>\n",
       "    </tr>\n",
       "    <tr>\n",
       "      <th>...</th>\n",
       "      <td>...</td>\n",
       "      <td>...</td>\n",
       "      <td>...</td>\n",
       "      <td>...</td>\n",
       "      <td>...</td>\n",
       "      <td>...</td>\n",
       "    </tr>\n",
       "    <tr>\n",
       "      <th>97</th>\n",
       "      <td>2023-02-08 16:30:04+00:00</td>\n",
       "      <td>1623358510573420546</td>\n",
       "      <td>Hi! I'm a #RaspberryPi. It's Wed 08 Feb 2023 1...</td>\n",
       "      <td>gpibot_g</td>\n",
       "      <td>0</td>\n",
       "      <td>0</td>\n",
       "    </tr>\n",
       "    <tr>\n",
       "      <th>98</th>\n",
       "      <td>2023-02-08 16:29:44+00:00</td>\n",
       "      <td>1623358428533108736</td>\n",
       "      <td>✍ Day 12 - Series on #Python 🤖 with   @Sachint...</td>\n",
       "      <td>Sachintukumar</td>\n",
       "      <td>0</td>\n",
       "      <td>0</td>\n",
       "    </tr>\n",
       "    <tr>\n",
       "      <th>99</th>\n",
       "      <td>2023-02-08 16:29:33+00:00</td>\n",
       "      <td>1623358382030876672</td>\n",
       "      <td>App Menu With Lock Screen\\n\\n#Programming #Cod...</td>\n",
       "      <td>TheInsaneApp</td>\n",
       "      <td>1</td>\n",
       "      <td>1</td>\n",
       "    </tr>\n",
       "    <tr>\n",
       "      <th>100</th>\n",
       "      <td>2023-02-08 16:26:42+00:00</td>\n",
       "      <td>1623357663567556608</td>\n",
       "      <td>I can be your python programming tutor #Python...</td>\n",
       "      <td>savinkisunu</td>\n",
       "      <td>0</td>\n",
       "      <td>0</td>\n",
       "    </tr>\n",
       "    <tr>\n",
       "      <th>101</th>\n",
       "      <td>2023-02-08 16:26:12+00:00</td>\n",
       "      <td>1623357537692143619</td>\n",
       "      <td>Check out what I just published on Replit: \\nD...</td>\n",
       "      <td>Sai5i1979</td>\n",
       "      <td>2</td>\n",
       "      <td>1</td>\n",
       "    </tr>\n",
       "  </tbody>\n",
       "</table>\n",
       "<p>102 rows × 6 columns</p>\n",
       "</div>"
      ],
      "text/plain": [
       "                         date                   id  \\\n",
       "0   2023-02-08 17:20:15+00:00  1623371140956622848   \n",
       "1   2023-02-08 17:18:32+00:00  1623370708918358017   \n",
       "2   2023-02-08 17:18:07+00:00  1623370606229000214   \n",
       "3   2023-02-08 17:17:47+00:00  1623370519171981312   \n",
       "4   2023-02-08 17:17:33+00:00  1623370462800580612   \n",
       "..                        ...                  ...   \n",
       "97  2023-02-08 16:30:04+00:00  1623358510573420546   \n",
       "98  2023-02-08 16:29:44+00:00  1623358428533108736   \n",
       "99  2023-02-08 16:29:33+00:00  1623358382030876672   \n",
       "100 2023-02-08 16:26:42+00:00  1623357663567556608   \n",
       "101 2023-02-08 16:26:12+00:00  1623357537692143619   \n",
       "\n",
       "                                               content       username  \\\n",
       "0    Weather at Fort Meade / Tipton, MD - via NOAA'...       gpibot_g   \n",
       "1    Blacbox extension vscode\\nhttps://t.co/wnMBQno...        NcPedia   \n",
       "2    Learning everything at once is like trying to ...  metaphorMind_   \n",
       "3    📱Facebook draine-t-il la pile de votre télépho...   VeilleCyber3   \n",
       "4    LamdenLink is now on Arko! Swap from Lamden to...      LamdenTau   \n",
       "..                                                 ...            ...   \n",
       "97   Hi! I'm a #RaspberryPi. It's Wed 08 Feb 2023 1...       gpibot_g   \n",
       "98   ✍ Day 12 - Series on #Python 🤖 with   @Sachint...  Sachintukumar   \n",
       "99   App Menu With Lock Screen\\n\\n#Programming #Cod...   TheInsaneApp   \n",
       "100  I can be your python programming tutor #Python...    savinkisunu   \n",
       "101  Check out what I just published on Replit: \\nD...      Sai5i1979   \n",
       "\n",
       "     like_count  retweet_count  \n",
       "0             0              0  \n",
       "1             0              0  \n",
       "2             0              1  \n",
       "3             1              1  \n",
       "4             2              0  \n",
       "..          ...            ...  \n",
       "97            0              0  \n",
       "98            0              0  \n",
       "99            1              1  \n",
       "100           0              0  \n",
       "101           2              1  \n",
       "\n",
       "[102 rows x 6 columns]"
      ]
     },
     "execution_count": 34,
     "metadata": {},
     "output_type": "execute_result"
    }
   ],
   "source": [
    "tweet_df"
   ]
  },
  {
   "cell_type": "markdown",
   "id": "2e1c7e64",
   "metadata": {},
   "source": [
    "### Exporting the data into csv format"
   ]
  },
  {
   "cell_type": "code",
   "execution_count": 35,
   "id": "49ebab99",
   "metadata": {},
   "outputs": [],
   "source": [
    "tweet_df.to_csv(\"PythonTweets\", index=False)"
   ]
  },
  {
   "cell_type": "markdown",
   "id": "ba0543be",
   "metadata": {},
   "source": [
    "### Adding a progress bar"
   ]
  },
  {
   "cell_type": "code",
   "execution_count": 13,
   "id": "29360e6b",
   "metadata": {},
   "outputs": [
    {
     "data": {
      "application/vnd.jupyter.widget-view+json": {
       "model_id": "bcf583c8086b4a27a48e9752643786a1",
       "version_major": 2,
       "version_minor": 0
      },
      "text/plain": [
       "  0%|          | 0/1000 [00:00<?, ?it/s]"
      ]
     },
     "metadata": {},
     "output_type": "display_data"
    }
   ],
   "source": [
    "scrapehashAI = sntweet.TwitterHashtagScraper(\"#AI\")\n",
    "\n",
    "tweet_data = []\n",
    "N_TWEETS = 1000\n",
    "for count, tweet in tqdm(enumerate(scrapehashpython.get_items()), total=N_TWEETS):\n",
    "    data = {\n",
    "        \"date\": tweet.date,\n",
    "        \"id\": tweet.id,\n",
    "        \"content\": tweet.rawContent,\n",
    "        \"username\": tweet.user.username,\n",
    "        \"like_count\": tweet.likeCount,\n",
    "        \"retweet_count\": tweet.retweetCount\n",
    "    }\n",
    "    tweet_data.append(data)\n",
    "    if count > N_TWEETS:\n",
    "        break"
   ]
  },
  {
   "cell_type": "code",
   "execution_count": null,
   "id": "52943dc9",
   "metadata": {},
   "outputs": [],
   "source": []
  }
 ],
 "metadata": {
  "kernelspec": {
   "display_name": "Python 3 (ipykernel)",
   "language": "python",
   "name": "python3"
  },
  "language_info": {
   "codemirror_mode": {
    "name": "ipython",
    "version": 3
   },
   "file_extension": ".py",
   "mimetype": "text/x-python",
   "name": "python",
   "nbconvert_exporter": "python",
   "pygments_lexer": "ipython3",
   "version": "3.9.12"
  }
 },
 "nbformat": 4,
 "nbformat_minor": 5
}
